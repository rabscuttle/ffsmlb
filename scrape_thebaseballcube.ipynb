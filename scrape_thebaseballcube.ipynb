{
 "cells": [
  {
   "cell_type": "code",
   "execution_count": 1,
   "metadata": {},
   "outputs": [],
   "source": [
    "# Import\n",
    "import pandas as pd\n",
    "from bs4 import BeautifulSoup as bs\n",
    "from splinter import Browser"
   ]
  },
  {
   "cell_type": "code",
   "execution_count": 2,
   "metadata": {},
   "outputs": [
    {
     "name": "stdout",
     "output_type": "stream",
     "text": [
      "2018\n",
      "2019\n",
      "2020\n",
      "2016\n",
      "2017\n",
      "2018\n",
      "2018\n",
      "2018\n",
      "2018\n",
      "2019\n",
      "2019\n",
      "2019\n"
     ]
    }
   ],
   "source": [
    "# Temporary\n",
    "tork = 213886\n",
    "beer = 203447\n",
    "\n",
    "ids = [tork, beer]\n",
    "\n",
    "for id in ids:\n",
    "\n",
    "    url = f'http://thebaseballcube.com/players/profile.asp?ID={id}'\n",
    "\n",
    "    # Initialize Browser\n",
    "    executable_path = {'executable_path': 'c:/bin/chromedriver.exe'}\n",
    "    browser = Browser('chrome', **executable_path, headless=True)\n",
    "\n",
    "    # Get Soup\n",
    "    browser.visit(url)\n",
    "    html = browser.html\n",
    "    soup = bs(html, 'html.parser')\n",
    "\n",
    "    team_urls = []\n",
    "    players = []\n",
    "\n",
    "    tbody = soup.select('#grid1 > tbody')[0]\n",
    "\n",
    "    # Get Team Page Links\n",
    "    for tr in tbody.select('tr[class*=\"dataRow\"]'):\n",
    "        year = tr.findAll('td')[0].text\n",
    "        team = tr.findAll('td')[1].text\n",
    "        league = tr.findAll('td')[2].text\n",
    "        level = tr.findAll('td')[3].text\n",
    "        organization = tr.findAll('td')[4].text\n",
    "        uniform_number = tr.findAll('td')[5].text\n",
    "        age = tr.findAll('td')[6].text\n",
    "        position = tr.findAll('td')[7].text\n",
    "        experience = tr.findAll('td')[8].text\n",
    "        \n",
    "        print(year)"
   ]
  },
  {
   "cell_type": "code",
   "execution_count": null,
   "metadata": {},
   "outputs": [],
   "source": []
  }
 ],
 "metadata": {
  "kernelspec": {
   "display_name": "Python 3",
   "language": "python",
   "name": "python3"
  },
  "language_info": {
   "codemirror_mode": {
    "name": "ipython",
    "version": 3
   },
   "file_extension": ".py",
   "mimetype": "text/x-python",
   "name": "python",
   "nbconvert_exporter": "python",
   "pygments_lexer": "ipython3",
   "version": "3.8.3"
  }
 },
 "nbformat": 4,
 "nbformat_minor": 4
}
