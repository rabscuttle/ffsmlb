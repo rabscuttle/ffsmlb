{
 "cells": [
  {
   "cell_type": "code",
   "execution_count": 1,
   "metadata": {},
   "outputs": [],
   "source": [
    "# Import\n",
    "import pandas as pd"
   ]
  },
  {
   "cell_type": "code",
   "execution_count": 2,
   "metadata": {},
   "outputs": [],
   "source": [
    "# Variables\n",
    "file_name = \"FFS MLB Sheet.xlsx\"\n",
    "ffs_teams_list = ['ARI','ATL','BAL','BOS','CHC','CWS','CIN','CLE','COL','DET','HOU','KC','LAA','LAD','MIA','MIL','MIN','NYM','NYY','OAK','PHI','PIT','SD','SF','SEA','STL','TB','TEX','TOR','WAS']"
   ]
  },
  {
   "cell_type": "code",
   "execution_count": null,
   "metadata": {},
   "outputs": [],
   "source": [
    "# Import FFS MLB Sheet\n",
    "# Read Player Names\n",
    "name_cols = \"G:\"\n",
    "current_year = \"2020\"\n",
    "\n",
    "# Loop through each tab to pull list of player names\n",
    "for team in ffs_teams_list:\n",
    "    # Variables\n",
    "    sheet = pd.read_excel(file_name, sheet_name=team, usecols=name_cols, skiprows=2)\n",
    "    names = sheet['Player']\n",
    "    player_list = []\n",
    "    \n",
    "    # Remove empty rows\n",
    "    nan_value = float(\"NaN\")\n",
    "    names.replace(\"\", nan_value, inplace=True)\n",
    "    names.dropna(inplace=True)\n",
    "    \n",
    "    # Write progress to console\n",
    "    print(f\"Processing data for {team}\")\n",
    "    \n",
    "    #names = [\"Andy Young\"] #### FOR TESTING ####\n",
    "    \n",
    "    # loop through each name in the sheet\n",
    "    for name in names:\n",
    "        \n",
    "        # Remove FFS lingo from name (formatting)\n",
    "        name = name.replace('RV', '')\n",
    "        name = name.replace('R1', '')\n",
    "        name = name.replace(team, '')\n",
    "        name = name.strip()"
   ]
  }
 ],
 "metadata": {
  "kernelspec": {
   "display_name": "Python 3",
   "language": "python",
   "name": "python3"
  },
  "language_info": {
   "codemirror_mode": {
    "name": "ipython",
    "version": 3
   },
   "file_extension": ".py",
   "mimetype": "text/x-python",
   "name": "python",
   "nbconvert_exporter": "python",
   "pygments_lexer": "ipython3",
   "version": "3.8.3"
  }
 },
 "nbformat": 4,
 "nbformat_minor": 4
}
